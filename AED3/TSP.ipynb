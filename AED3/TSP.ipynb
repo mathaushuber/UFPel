{
  "nbformat": 4,
  "nbformat_minor": 0,
  "metadata": {
    "colab": {
      "name": "TSP.ipynb",
      "provenance": [],
      "collapsed_sections": []
    },
    "kernelspec": {
      "name": "python3",
      "display_name": "Python 3"
    },
    "language_info": {
      "name": "python"
    }
  },
  "cells": [
    {
      "cell_type": "markdown",
      "source": [
        "# Problema do Caixeiro Viajante\n",
        "### *The Travelling Salesman Problem-TSP* \n",
        "É um problema de otimização NP-difícil inspirado na necessidade dos vendedores em realizar entregas em diversos locais, percorrendo o menor caminho possível, reduzindo o tempo necessário para a viagem e os possíveis custos com transporte e combustível. \n",
        "\n",
        "O TSP pode ser assim formulado: existem n pontos e caminhos entre todos eles com\n",
        "comprimentos conhecidos. O objetivo é encontrar o caminho mais curto, que passa\n",
        "por todos os pontos uma única vez, começando e terminando no mesmo ponto. Isso\n",
        "significa que o objetivo é encontrar a viagem de ida e volta mais curta possível.\n",
        "\n",
        "**Neste relatório iremos comparar algoritmos aproximados e exatos para resolver as instâncias do caixeiro viajante**\n",
        "\n",
        "O relatório em PDF dos algoritmos e testes está disponível em: [Link do Drive](https://drive.google.com/file/d/1vWd6E7mb5MYohAkFWJyNxMFABnJfYLjV/view?usp=sharing)\n",
        "\n",
        "Para utilizar os testes no Colab é necessário criar uma pasta com o nome 'testes' com os arquivos disponibilizados no e-aula. Visto que, a cada vez que o projeto é reciclado os arquivos somem. Busquei uma integração com o meu Drive, mas os arquivos também sumiram após a reciclagem (atualização da página)."
      ],
      "metadata": {
        "id": "kV4zxS1lTnQq"
      }
    },
    {
      "cell_type": "markdown",
      "source": [
        "## Bibliotecas"
      ],
      "metadata": {
        "id": "gJSsZ4fvjJK-"
      }
    },
    {
      "cell_type": "code",
      "source": [
        "!pip install munkres"
      ],
      "metadata": {
        "colab": {
          "base_uri": "https://localhost:8080/"
        },
        "id": "B_WjSxfPnc88",
        "outputId": "6bf95e9f-dee8-442b-e278-e01b874fb440"
      },
      "execution_count": null,
      "outputs": [
        {
          "output_type": "stream",
          "name": "stdout",
          "text": [
            "Requirement already satisfied: munkres in /usr/local/lib/python3.7/dist-packages (1.1.4)\n"
          ]
        }
      ]
    },
    {
      "cell_type": "code",
      "source": [
        "import numpy as np\n",
        "import itertools\n",
        "import time\n",
        "from scipy.sparse.csgraph import minimum_spanning_tree\n",
        "from scipy.sparse import csr_matrix\n",
        "from itertools import combinations\n",
        "from numpy import triu, inf, array\n",
        "from numpy import loadtxt\n",
        "from munkres import Munkres"
      ],
      "metadata": {
        "id": "Okrlbp5rIJeq"
      },
      "execution_count": null,
      "outputs": []
    },
    {
      "cell_type": "markdown",
      "source": [
        "## Algoritmo Exato\n",
        "### Algoritmo Ingênuo para o TSP: Tentar todos os caminhos.\n",
        "A ideia do algoritmo, como o próprio nome é autoexplicativo, é utilizarmos uma força bruta, testando todos os caminhos e escolhendo o menor.\n",
        "\n",
        "**Complexidade: O(n!), onde n = |V|**\n",
        "\n",
        "**Exemplo: Para N = 6, temos quantos caminhos possíveis?**\n",
        "\n",
        "**5! = 5x4x3x2x1 = 120**\n",
        "\n",
        "**Ele é ótimo? Sim. Ele encontra a melhor solução**\n",
        "\n",
        "**Ele é eficiente? De jeito nenhum... Se o número de entradas for muito grande poderá exceder o tempo de execução** \n",
        "\n"
      ],
      "metadata": {
        "id": "SGociMHvjOvp"
      }
    },
    {
      "cell_type": "code",
      "source": [
        "def TSPBruteForce(arquivo):\n",
        "  tempoInicial = time.monotonic()\n",
        "  arq = \"testes/\" + str(arquivo)\n",
        "  file = open(arq)\n",
        "\n",
        "  lines = list()\n",
        "\n",
        "  for line in file:\n",
        "    lines.append(line.split())\n",
        "\n",
        "  file.close()\n",
        "\n",
        "  lines = np.array(lines)\n",
        "  n = lines.shape[0]\n",
        "  indice = np.arange(n)\n",
        "  result = {'caminho': indice, 'custo': 0}\n",
        "  custoTotal = result['custo']\n",
        "  caminhoFinal = result['caminho'] \n",
        "  custo = 0\n",
        "\n",
        "  for i in range(n-1):\n",
        "    custo += int(lines[i][i+1])\n",
        "\n",
        "  custo += int(lines[n-1][0])\n",
        "\n",
        "  custoTotal = custo \n",
        "  permut = itertools.permutations(indice)\n",
        "\n",
        "  for eventoPos in permut:\n",
        "    custo = 0\n",
        "\n",
        "    for i in range(n - 1):\n",
        "      custo += int(lines[eventoPos[i]][eventoPos[i+1]])\n",
        "\n",
        "    custo += int(lines[eventoPos[n-1]][eventoPos[0]])\n",
        "\n",
        "    if custo < custoTotal:\n",
        "      custoTotal = custo\n",
        "      caminhoFinal = eventoPos\n",
        "\n",
        "  tempoFinal = time.monotonic()\n",
        "  tempoTotal = tempoFinal - tempoInicial\n",
        "  return custoTotal, caminhoFinal, tempoTotal"
      ],
      "metadata": {
        "id": "E7X0Zv-D_Q4H"
      },
      "execution_count": null,
      "outputs": []
    },
    {
      "cell_type": "code",
      "source": [
        "custo, caminho, tempoFinal = TSPBruteForce('tsp1_253.txt')\n",
        "print(f'Algoritmo Exato (Força Bruta)'\n",
        "      f'\\n\\tCaminho: {caminho}'\n",
        "      f'\\n\\tCusto: {custo}'\n",
        "      f'\\n\\tTempo de execução: {\"{:.5f}\".format(tempoFinal)} segundos')"
      ],
      "metadata": {
        "colab": {
          "base_uri": "https://localhost:8080/"
        },
        "id": "4f4z41UhL0s3",
        "outputId": "27cdb3b0-f852-48be-ae57-2b02bef38b01"
      },
      "execution_count": null,
      "outputs": [
        {
          "output_type": "stream",
          "name": "stdout",
          "text": [
            "Algoritmo Exato (Força Bruta)\n",
            "\tCaminho: (0, 7, 4, 3, 9, 5, 2, 6, 1, 10, 8)\n",
            "\tCusto: 253\n",
            "\tTempo de execução: 396.95524 segundos\n"
          ]
        }
      ]
    },
    {
      "cell_type": "code",
      "source": [
        "custo, caminho, tempoFinal = TSPBruteForce('tsp2_1248.txt')\n",
        "print(f'Algoritmo Exato (Força Bruta)'\n",
        "      f'\\n\\tCaminho: {caminho}'\n",
        "      f'\\n\\tCusto: {custo}'\n",
        "      f'\\n\\tTempo de execução: {\"{:.5f}\".format(tempoFinal)} segundos')"
      ],
      "metadata": {
        "id": "UwAfVq2zkvTt",
        "colab": {
          "base_uri": "https://localhost:8080/",
          "height": 358
        },
        "outputId": "9f4d0f6f-dd36-4219-c9f2-89f6802c2949"
      },
      "execution_count": null,
      "outputs": [
        {
          "output_type": "error",
          "ename": "IndexError",
          "evalue": "ignored",
          "traceback": [
            "\u001b[0;31m---------------------------------------------------------------------------\u001b[0m",
            "\u001b[0;31mIndexError\u001b[0m                                Traceback (most recent call last)",
            "\u001b[0;32m<ipython-input-9-4c0d11f3248e>\u001b[0m in \u001b[0;36m<module>\u001b[0;34m()\u001b[0m\n\u001b[0;32m----> 1\u001b[0;31m \u001b[0mcusto\u001b[0m\u001b[0;34m,\u001b[0m \u001b[0mcaminho\u001b[0m\u001b[0;34m,\u001b[0m \u001b[0mtempoFinal\u001b[0m \u001b[0;34m=\u001b[0m \u001b[0mTSPBruteForce\u001b[0m\u001b[0;34m(\u001b[0m\u001b[0;34m'tsp2_1248.txt'\u001b[0m\u001b[0;34m)\u001b[0m\u001b[0;34m\u001b[0m\u001b[0;34m\u001b[0m\u001b[0m\n\u001b[0m\u001b[1;32m      2\u001b[0m print(f'Algoritmo Exato (Força Bruta)'\n\u001b[1;32m      3\u001b[0m       \u001b[0;34mf'\\n\\tCaminho: {caminho}'\u001b[0m\u001b[0;34m\u001b[0m\u001b[0;34m\u001b[0m\u001b[0m\n\u001b[1;32m      4\u001b[0m       \u001b[0;34mf'\\n\\tCusto: {custo}'\u001b[0m\u001b[0;34m\u001b[0m\u001b[0;34m\u001b[0m\u001b[0m\n\u001b[1;32m      5\u001b[0m       f'\\n\\tTempo de execução: {\"{:.5f}\".format(tempoFinal)} segundos')\n",
            "\u001b[0;32m<ipython-input-8-101fbc1adfda>\u001b[0m in \u001b[0;36mTSPBruteForce\u001b[0;34m(arquivo)\u001b[0m\n\u001b[1;32m     20\u001b[0m \u001b[0;34m\u001b[0m\u001b[0m\n\u001b[1;32m     21\u001b[0m   \u001b[0;32mfor\u001b[0m \u001b[0mi\u001b[0m \u001b[0;32min\u001b[0m \u001b[0mrange\u001b[0m\u001b[0;34m(\u001b[0m\u001b[0mn\u001b[0m\u001b[0;34m-\u001b[0m\u001b[0;36m1\u001b[0m\u001b[0;34m)\u001b[0m\u001b[0;34m:\u001b[0m\u001b[0;34m\u001b[0m\u001b[0;34m\u001b[0m\u001b[0m\n\u001b[0;32m---> 22\u001b[0;31m     \u001b[0mcusto\u001b[0m \u001b[0;34m+=\u001b[0m \u001b[0mint\u001b[0m\u001b[0;34m(\u001b[0m\u001b[0mlines\u001b[0m\u001b[0;34m[\u001b[0m\u001b[0mi\u001b[0m\u001b[0;34m]\u001b[0m\u001b[0;34m[\u001b[0m\u001b[0mi\u001b[0m\u001b[0;34m+\u001b[0m\u001b[0;36m1\u001b[0m\u001b[0;34m]\u001b[0m\u001b[0;34m)\u001b[0m\u001b[0;34m\u001b[0m\u001b[0;34m\u001b[0m\u001b[0m\n\u001b[0m\u001b[1;32m     23\u001b[0m \u001b[0;34m\u001b[0m\u001b[0m\n\u001b[1;32m     24\u001b[0m   \u001b[0mcusto\u001b[0m \u001b[0;34m+=\u001b[0m \u001b[0mint\u001b[0m\u001b[0;34m(\u001b[0m\u001b[0mlines\u001b[0m\u001b[0;34m[\u001b[0m\u001b[0mn\u001b[0m\u001b[0;34m-\u001b[0m\u001b[0;36m1\u001b[0m\u001b[0;34m]\u001b[0m\u001b[0;34m[\u001b[0m\u001b[0;36m0\u001b[0m\u001b[0;34m]\u001b[0m\u001b[0;34m)\u001b[0m\u001b[0;34m\u001b[0m\u001b[0;34m\u001b[0m\u001b[0m\n",
            "\u001b[0;31mIndexError\u001b[0m: index 1 is out of bounds for axis 0 with size 1"
          ]
        }
      ]
    },
    {
      "cell_type": "code",
      "source": [
        "custo, caminho, tempoFinal = TSPBruteForce('tsp3_1194.txt')\n",
        "print(f'Algoritmo Exato (Força Bruta)'\n",
        "      f'\\n\\tCaminho: {caminho}'\n",
        "      f'\\n\\tCusto: {custo}'\n",
        "      f'\\n\\tTempo de execução: {\"{:.5f}\".format(tempoFinal)} segundos')"
      ],
      "metadata": {
        "id": "_cPczNx9kvpL"
      },
      "execution_count": null,
      "outputs": []
    },
    {
      "cell_type": "code",
      "source": [
        "custo, caminho, tempoFinal = TSPBruteForce('tsp4_7013.txt')\n",
        "print(f'Algoritmo Exato (Força Bruta)'\n",
        "      f'\\n\\tCaminho: {caminho}'\n",
        "      f'\\n\\tCusto: {custo}'\n",
        "      f'\\n\\tTempo de execução: {\"{:.5f}\".format(tempoFinal)} segundos')"
      ],
      "metadata": {
        "id": "IdOaD_Fwkv0e"
      },
      "execution_count": null,
      "outputs": []
    },
    {
      "cell_type": "code",
      "source": [
        "custo, caminho, tempoFinal = TSPBruteForce('tsp5_27603.txt')\n",
        "print(f'Algoritmo Exato (Força Bruta)'\n",
        "      f'\\n\\tCaminho: {caminho}'\n",
        "      f'\\n\\tCusto: {custo}'\n",
        "      f'\\n\\tTempo de execução: {\"{:.5f}\".format(tempoFinal)} segundos')"
      ],
      "metadata": {
        "id": "ngSctyeokwBz"
      },
      "execution_count": null,
      "outputs": []
    },
    {
      "cell_type": "markdown",
      "source": [
        "### Dissertação sobre os testes do Algoritmo exato\n",
        "A maioria dos testes não foi possível rodar em tempo plausível, apenas nos dois primeiros (tsp1\\_253.txt e tsp2\\_1248.txt) o nosso algoritmo de força bruta nos deu a solução esperada, a exata. O máximo de tempo que deixei rodando o algoritmo no Colab foram aproximadamente 60 minutos, contudo, como o tempo de execução difere entre máquinas, seria interessante testar em outra com mais capacidade de processamento. \n",
        "\n",
        "Como já era esperado, o nosso algoritmo ingênuo, depois de um longo tempo, para entradas específicas, encontrou a solução exata para o problema do Caixeiro Viajante. Partindo desse princípio, eu consideraria ele um bom algoritmo, pois encontrou a solução. Contudo, não consideraria um algoritmo eficiente, pois para entradas maiores ele pode exceder o tempo de execução."
      ],
      "metadata": {
        "id": "Vo2qwy2tJ6tQ"
      }
    },
    {
      "cell_type": "markdown",
      "source": [
        "## Algoritmo Aproximativo\n",
        "Existem heurísticas para resolver o problema do caixeiro viajante, que são métodos por meio dos quais a solução ótima para o TSP é procurada. Embora as heurísticas não possam\n",
        "garantir que a solução ótima seja encontrada, ou não ao menos em tempo real, um\n",
        "grande número delas encontrará uma solução próxima à ótima, ou mesmo\n",
        "encontrará uma solução ótima para certos casos do problema do caixeiro viajante.\n",
        "\n",
        "Utilizaremos uma heurística construtiva para a solução do TSP utilizando um algoritmo de Christofides.\n",
        "\n",
        "Informações detalhadas sobre o algoritmo e os testes dado neste Notebook estão disponíveis no relatório.\n",
        "\n",
        "    ##PASSOS\n",
        "    # Criar uma árvore de abrangência minima\n",
        "    # Criar uma representação gráfica usando o dicionário python\n",
        "    # Obtér vértices de grau ímpar\n",
        "    # Gerar uma combinação entre todos os vértices de grau ímpar\n",
        "    # Usar o algoritmo de Munkres para encontrar uma correspondência perfeita de peso mínimo\n",
        "    # Formar um circuito euleriano\n",
        "    # Converter para um circuito hamiltoniano (atalho)\n",
        "    # Obter custódia total do circuito hamiltoniano"
      ],
      "metadata": {
        "id": "qj1eiuo1zcG3"
      }
    },
    {
      "cell_type": "code",
      "source": [
        "import os\n",
        "import re\n",
        "\n",
        "N_VERTICES = None\n",
        "DIR = 'testes/'\n",
        "def run():\n",
        "    \n",
        "    for filename in os.listdir(DIR):\n",
        "        with open(f'{DIR}{filename}', 'r') as file:\n",
        "            lines = file.readlines()\n",
        "\n",
        "        lines = [re.sub('\\s+', ',', line.strip()) for line in lines]\n",
        "\n",
        "        with open(f'{DIR}{filename}', 'w') as file:\n",
        "            file.writelines(line + '\\n' for line in lines)\n",
        "\n",
        "    matrizAdjacencia = loadtxt(f'{DIR}tsp4_7013.txt', dtype='int', delimiter=',')\n",
        "    matrizAdjacencia_fixed = matrizAdjacencia[:22, :22]\n",
        "    lines = [re.sub('\\s+', ',', \" \".join(map(str, line))) for line in matrizAdjacencia_fixed]\n",
        "    with open(f'{DIR}tsp4_7013_fixed.txt', 'w+') as file:\n",
        "        file.writelines(line + '\\n' for line in lines)\n",
        "    \n",
        "\n",
        "def christofides(arquivo):\n",
        "    tempoInicial = time.monotonic()\n",
        "    run()\n",
        "    matrizAdjacencia = loadtxt(f'{DIR}{arquivo}.txt', dtype='int', delimiter=',')\n",
        "    global N_VERTICES\n",
        "    N_VERTICES = len(matrizAdjacencia)\n",
        "\n",
        "    \n",
        "    mst = minimum_spanning_tree(csr_matrix(triu(matrizAdjacencia)))\n",
        "    grafo = criaGrafo(matrizAdjacencia, mst)  \n",
        "    verticesImpar = VerticeGrauImpar(grafo) \n",
        "    combVertImp = [set(i) for i in combinations(set(verticesImpar), len(verticesImpar) // 2)]\n",
        "    vertImpSubgrafo = verticesImpar_subgrafo(matrizAdjacencia, combVertImp, verticesImpar)\n",
        "    munkres(matrizAdjacencia, grafo, vertImpSubgrafo)\n",
        "    caminho = caminhoEuleriano(grafo)\n",
        "    menorCaminho = caminhoHamiltoniano(caminho)\n",
        "    custo = caminho_custo(matrizAdjacencia, menorCaminho)\n",
        "\n",
        "\n",
        "    tempoFinal = time.monotonic()\n",
        "    tempoTotal = tempoFinal - tempoInicial\n",
        "    return custo, menorCaminho, tempoTotal\n",
        "\n",
        "\n",
        "def criaGrafo(matrizAdjacencia, mst):\n",
        "    grafo = {}\n",
        "\n",
        "    for v1, v2 in list(zip(*mst.nonzero())):\n",
        "\n",
        "        if v1.item() not in grafo:\n",
        "            grafo[v1.item()] = {}\n",
        "        if v2.item() not in grafo:\n",
        "            grafo[v2.item()] = {}\n",
        "\n",
        "        grafo[v1.item()][v2.item()] = matrizAdjacencia[v1.item()][v2.item()]\n",
        "        grafo[v2.item()][v1.item()] = matrizAdjacencia[v1.item()][v2.item()]\n",
        "\n",
        "    return grafo\n",
        "\n",
        "\n",
        "def VerticeGrauImpar(mst):\n",
        "    verticesImpar = [vertex for vertex, neighbors in mst.items() if len(neighbors) % 2 == 1]\n",
        "\n",
        "    return sorted(verticesImpar)\n",
        "\n",
        "\n",
        "def verticesImpar_subgrafo(matrizAdjacencia, combVertImp, verticesImpar):\n",
        "    subgrafos = []\n",
        "    vertex_sets = []\n",
        "    for vertex_set1 in combVertImp:\n",
        "        vertex_set1 = list(sorted(vertex_set1))\n",
        "        vertex_set2 = []\n",
        "        for vertex in verticesImpar:\n",
        "            if vertex not in vertex_set1:\n",
        "                vertex_set2.append(vertex)\n",
        "        matriz = [[inf for _ in enumerate(vertex_set2)] for _ in enumerate(vertex_set1)]\n",
        "\n",
        "        for i in range(len(vertex_set1)):\n",
        "            for j in range(len(vertex_set2)):\n",
        "                matriz[i][j] = matrizAdjacencia[vertex_set1[i]][vertex_set2[j]]\n",
        "\n",
        "        subgrafos.append(matriz)\n",
        "\n",
        "        vertex_sets.append([vertex_set1, vertex_set2])\n",
        "\n",
        "    return [subgrafos, vertex_sets]\n",
        "\n",
        "\n",
        "def munkres(matrizAdjacencia, grafo, vertImpSubgrafo):\n",
        "    m = Munkres()\n",
        "    minimo = inf\n",
        "\n",
        "    for indice, bip_grafo in enumerate(vertImpSubgrafo[0]):\n",
        "        munkres_indicees = m.compute(bip_grafo)\n",
        "\n",
        "        custo = 0\n",
        "        for idx in munkres_indicees:\n",
        "            custo += bip_grafo[idx[0]][idx[1]]\n",
        "\n",
        "        if custo < minimo:\n",
        "            minimo = custo\n",
        "            min_indice = indice\n",
        "            min_munkres_indicees = munkres_indicees\n",
        "\n",
        "    munkres_indicees = [[]] * len(min_munkres_indicees)\n",
        "\n",
        "    for indice, vertex_set in enumerate(min_munkres_indicees):\n",
        "        munkres_indicees[indice].append(vertImpSubgrafo[1][min_indice][0][vertex_set[0]])\n",
        "        munkres_indicees[indice].append(vertImpSubgrafo[1][min_indice][1][vertex_set[1]])\n",
        "\n",
        "    for match in munkres_indicees:\n",
        "        grafo[match[0]][match[1]] = matrizAdjacencia[match[0]][match[1]]\n",
        "        grafo[match[1]][match[0]] = matrizAdjacencia[match[0]][match[1]]\n",
        "\n",
        "\n",
        "def caminhoEuleriano(grafo):\n",
        "    iniVertex = list(grafo[0])[0]\n",
        "    caminho = [list(grafo[iniVertex])[0]]\n",
        "\n",
        "    while len(grafo) > 0:\n",
        "\n",
        "        for indice, vertex in enumerate(caminho):\n",
        "            if vertex in grafo and len(grafo[vertex]) > 0:\n",
        "                break\n",
        "\n",
        "        while vertex in grafo:\n",
        "            prox_vertex = list(grafo[vertex])[0]\n",
        "\n",
        "            del grafo[vertex][prox_vertex]\n",
        "            del grafo[prox_vertex][vertex]\n",
        "\n",
        "            if len(grafo[vertex]) == 0:\n",
        "                del grafo[vertex]\n",
        "            if len(grafo[prox_vertex]) == 0:\n",
        "                del grafo[prox_vertex]\n",
        "\n",
        "            indice += 1\n",
        "            caminho.insert(indice, prox_vertex)\n",
        "            vertex = prox_vertex\n",
        "\n",
        "    return caminho\n",
        "\n",
        "\n",
        "def caminhoHamiltoniano(caminho):\n",
        "    menorCaminho = []\n",
        "    for vertex in caminho:\n",
        "        if vertex not in menorCaminho:\n",
        "            menorCaminho.append(vertex)\n",
        "\n",
        "    menorCaminho = list(array(menorCaminho) + 1)\n",
        "    menorCaminho.append(1)\n",
        "\n",
        "    return menorCaminho\n",
        "\n",
        "\n",
        "def caminho_custo(matrizAdjacencia, caminho):\n",
        "    peso = 0\n",
        "    for i in range(len(caminho) - 1):\n",
        "        peso += matrizAdjacencia[caminho[i]-1, caminho[i + 1]-1]\n",
        "\n",
        "    return peso\n"
      ],
      "metadata": {
        "id": "OAwMtZhDlEQk"
      },
      "execution_count": null,
      "outputs": []
    },
    {
      "cell_type": "code",
      "source": [
        "custo, caminho, tempoFinal = christofides('tsp1_253')\n",
        "print(f'Christofides (Algoritmo Aproximativo)'\n",
        "      f'\\n\\tCaminho: {caminho}'\n",
        "      f'\\n\\tCusto: {custo}'\n",
        "      f'\\n\\tTempo de execução: {\"{:.5f}\".format(tempoFinal)} segundos')"
      ],
      "metadata": {
        "colab": {
          "base_uri": "https://localhost:8080/"
        },
        "id": "6YN81EqTKjNy",
        "outputId": "c34319a9-53b0-4aef-f5cd-7a77cde2b336"
      },
      "execution_count": null,
      "outputs": [
        {
          "output_type": "stream",
          "name": "stdout",
          "text": [
            "Christofides (Algoritmo Aproximativo)\n",
            "\tCaminho: [1, 9, 8, 3, 7, 2, 11, 5, 4, 6, 10, 1]\n",
            "\tCusto: 265\n",
            "\tTempo de execução: 0.01807 segundos\n"
          ]
        }
      ]
    },
    {
      "cell_type": "code",
      "source": [
        "custo, caminho, tempoFinal = christofides('tsp2_1248')\n",
        "print(f'Christofides (Algoritmo Aproximativo)'\n",
        "      f'\\n\\tCaminho: {caminho}'\n",
        "      f'\\n\\tCusto: {custo}'\n",
        "      f'\\n\\tTempo de execução: {\"{:.5f}\".format(tempoFinal)} segundos')"
      ],
      "metadata": {
        "colab": {
          "base_uri": "https://localhost:8080/"
        },
        "id": "FFbqsgC5KfR4",
        "outputId": "8b05247d-cd7e-42fc-d08a-f313f4e8787c"
      },
      "execution_count": null,
      "outputs": [
        {
          "output_type": "stream",
          "name": "stdout",
          "text": [
            "Christofides (Algoritmo Aproximativo)\n",
            "\tCaminho: [1, 2, 6, 5, 4, 3, 1]\n",
            "\tCusto: 1272\n",
            "\tTempo de execução: 0.01164 segundos\n"
          ]
        }
      ]
    },
    {
      "cell_type": "code",
      "source": [
        "custo, caminho, tempoFinal = christofides('tsp3_1194')\n",
        "print(f'Christofides (Algoritmo Aproximativo)'\n",
        "      f'\\n\\tCaminho: {caminho}'\n",
        "      f'\\n\\tCusto: {custo}'\n",
        "      f'\\n\\tTempo de execução: {\"{:.5f}\".format(tempoFinal)} segundos')"
      ],
      "metadata": {
        "colab": {
          "base_uri": "https://localhost:8080/"
        },
        "id": "Oplh4sXhKbMN",
        "outputId": "f041926b-97c9-4fc5-ece8-091ef67a494e"
      },
      "execution_count": null,
      "outputs": [
        {
          "output_type": "stream",
          "name": "stdout",
          "text": [
            "Christofides (Algoritmo Aproximativo)\n",
            "\tCaminho: [1, 2, 10, 11, 12, 13, 14, 15, 9, 8, 6, 7, 5, 4, 3, 1]\n",
            "\tCusto: 1360\n",
            "\tTempo de execução: 0.01510 segundos\n"
          ]
        }
      ]
    },
    {
      "cell_type": "code",
      "source": [
        "custo, caminho, tempoFinal = christofides('tsp4_7013')\n",
        "print(f'Christofides (Algoritmo Aproximativo)'\n",
        "      f'\\n\\tCaminho: {caminho}'\n",
        "      f'\\n\\tCusto: {custo}'\n",
        "      f'\\n\\tTempo de execução: {\"{:.5f}\".format(tempoFinal)} segundos')"
      ],
      "metadata": {
        "id": "NOOVmeWrKTyS"
      },
      "execution_count": null,
      "outputs": []
    },
    {
      "cell_type": "code",
      "source": [
        "custo, caminho, tempoFinal = christofides('tsp5_27603')\n",
        "print(f'Christofides (Algoritmo Aproximativo)'\n",
        "      f'\\n\\tCaminho: {caminho}'\n",
        "      f'\\n\\tCusto: {custo}'\n",
        "      f'\\n\\tTempo de execução: {\"{:.5f}\".format(tempoFinal)} segundos')"
      ],
      "metadata": {
        "colab": {
          "base_uri": "https://localhost:8080/"
        },
        "id": "5aAwFuaAouz7",
        "outputId": "0eb29751-f661-41c3-eff0-b830f1ebfa3c"
      },
      "execution_count": null,
      "outputs": [
        {
          "output_type": "stream",
          "name": "stdout",
          "text": [
            "Christofides (Algoritmo Aproximativo)\n",
            "\tCaminho: [1, 11, 10, 12, 13, 14, 17, 18, 22, 23, 29, 28, 26, 20, 16, 25, 27, 24, 21, 19, 15, 8, 4, 2, 6, 5, 7, 9, 3, 1]\n",
            "\tCusto: 38110\n",
            "\tTempo de execução: 0.52984 segundos\n"
          ]
        }
      ]
    },
    {
      "cell_type": "markdown",
      "source": [
        "### Dissertação sobre os testes do Algoritmo Aproximativo\n",
        "\n",
        "Em todos os testes do nosso algoritmo aproximativo, a solução dada se aproxima bastante da ótima, e diferente do último método visto, feito por uma solução força bruta, onde o nosso algoritmo nos dava uma solução exata, o tempo de execução é imensamente inferior, o que nos dá uma vantagem gigantesca. Também deu pra notar que com entradas muito maiores o custo já difere um pouco da solução ótima, o que também era esperado, a exemplo disso temos o teste 5, onde a solução ótima seria dada por um custo de 27603 e o nosso algoritmo aproximativo nos deu um custo de 38110.\n",
        "\n",
        "A única exceção nos nossos testes foi o teste 4 \"tsp4_7013\", onde o colab nos reportou um erro de uso total da capacidade da RAM. Acredito que essa exceção nos dá por causa da versão gratuita do colab, e para fins de comparação seria interessante rodar em uma máquina ou SO, ao invés de rodar pelo colab."
      ],
      "metadata": {
        "id": "q-3CzKl6KN5r"
      }
    },
    {
      "cell_type": "markdown",
      "source": [
        "# Conclusão\n",
        "\n",
        "Considerei um problema muito interessante, já tinha tido um pré-conhecimento sobre o problema de otimização do TSP, e particularmente achei um trabalho muito estimulante de ser desenvolvido, visto que, o desenvolvimento de algoritmos de aproximação é uma das linhas de pesquisa que mais têm crescido na área de otimização combinatória e teoria da computação.\n",
        "\n",
        "Notamos que para o problema do TSP em dimensões elevadas, a resolução por métodos de força bruta é proibitiva em termos de tempos computacionais. Portanto, a abordagem de solução heurística e de aproximação é mais útil para as aplicações que preferem o tempo de execução do algoritmo em relação à precisão do resultado.\n",
        "\n",
        "Para a grande maioria dos problemas de otimização interessantes não se conhecem algoritmos \"exatos\" eficientes, este também é o caso do problema do Caixeiro Viajante. Por isso para esse problema em específico os algoritmos de aproximação são muito úteis. \n",
        "\n",
        "Conclui também que, o nosso algoritmo aproximativo (Christofides), nos dá uma eficiência maior em termos de tempo computacional e a precisão do resultado não difere tanto em pequenas e médias dimensões, por isso escolheria esse método de heurística se estivesse desenvolvendo uma solução para o problema, ao invés da ótima."
      ],
      "metadata": {
        "id": "CAb0puMZKsXf"
      }
    }
  ]
}
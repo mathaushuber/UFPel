{
  "cells": [
    {
      "cell_type": "markdown",
      "source": [
        "O Algoritmo de Quine–McCluskey (ou método dos implicantes primos) é um método utilizado para minimização de funções booleanas desenvolvido por W.V. Quine e Edward J. McCluskey em 1956. O procedimento consiste em 3 etapas:\n",
        "\n",
        "\n",
        "1.  Encontrar todos os implicantes primos da função;\n",
        "2.  Usar esses implicantes primos num mapa de implicantes primos para encontrar os implicantes primos essenciais da função;\n",
        "3.  Usar os implicante primos essenciais e se necessário alguns implicantes primos para encontrar a função minimizada.\n",
        "\n",
        "Embora mais prático do que o mapa de Karnaugh ao lidar com mais de 4 variáveis, o algoritmo de Quine-McCluskey também possui limitações devido ao fato de o problema resolvido por ele ser NP-difícil: o tempo de execução do algoritmo de Quine-McCluskey cresce exponencialmente em relação ao número de variáveis. Pode-se mostrar que para uma função de n variáveis o limite superior no número de implicantes primos é 3n/n. Se n = 32 haverá cerca de 5.8 . 1013 implicantes primos. Portanto o algoritmo proposto neste trabalho só trata funções com no máximo 4 variáveis.\n",
        "\n"
      ],
      "metadata": {
        "id": "4Pstc1xunRnW"
      }
    },
    {
      "cell_type": "code",
      "execution_count": 114,
      "metadata": {
        "id": "uVOTl1LQGUXN"
      },
      "outputs": [],
      "source": [
        "import string\n",
        "import re\n",
        "from collections import defaultdict\n",
        "from itertools import combinations"
      ]
    },
    {
      "cell_type": "code",
      "execution_count": 59,
      "metadata": {
        "id": "dNyT_ryPGVg0"
      },
      "outputs": [],
      "source": [
        "class ValidadorSintaxe(Exception):\n",
        "    def __init__(self, valor):\n",
        "        self.valor = valor\n",
        "        \n",
        "    def __str__(self):\n",
        "        return repr(self.valor)\n",
        "    \n",
        "class ValidadorCaracter(Exception):\n",
        "    def __init__(self, valor):\n",
        "        self.valor = valor\n",
        "        \n",
        "    def __str__(self):\n",
        "        return repr(self.valor)"
      ]
    },
    {
      "cell_type": "markdown",
      "source": [
        "Verifica se a lista de símbolos dada representa a expressão lógica sintaticamente correta"
      ],
      "metadata": {
        "id": "XAsK4Htcmy66"
      }
    },
    {
      "cell_type": "code",
      "execution_count": 139,
      "metadata": {
        "id": "DF2vmDbTGfzm"
      },
      "outputs": [],
      "source": [
        "def ChecaSintaxe(simbolosExpressao):\n",
        "    \n",
        "    operadores = '*|^=>'\n",
        "    contadorColchetes = 0\n",
        "    estado = 2\n",
        "    \n",
        "    for simbolo in simbolosExpressao:\n",
        "        \n",
        "        if estado == 1:\n",
        "            \n",
        "            if simbolo in operadores:\n",
        "                estado = 2\n",
        "                continue\n",
        "                \n",
        "            if simbolo == ')':\n",
        "                contadorColchetes -= 1\n",
        "                \n",
        "                if contadorColchetes < 0:\n",
        "                    return False\n",
        "                \n",
        "                continue\n",
        "                \n",
        "            return False\n",
        "        \n",
        "                \n",
        "        elif estado == 2:\n",
        "            \n",
        "            if simbolo == '(':\n",
        "                contadorColchetes += 1\n",
        "                continue\n",
        "                \n",
        "            if simbolo == '!':\n",
        "                continue\n",
        "                \n",
        "            if simbolo == ')' or simbolo in operadores:\n",
        "                return False\n",
        "            \n",
        "            estado = 1\n",
        "            \n",
        "    \n",
        "    return estado == 1 and contadorColchetes == 0"
      ]
    },
    {
      "cell_type": "markdown",
      "source": [
        "Converte determinada string em representação de sintaxe postfix\n",
        "\n",
        "'0' e '1' também são tratados como variáveis neste contexto\n",
        "\n",
        "Dividindo a expressão em lista de entradas únicas (variáveis ou operadores)\n",
        "\n",
        "Todos os operadores considerados, exceto '!', são associativos da esquerda para a direita\n"
      ],
      "metadata": {
        "id": "ZJbMumIMmIzK"
      }
    },
    {
      "cell_type": "code",
      "execution_count": 140,
      "metadata": {
        "id": "zqXRYSS_Ggyc"
      },
      "outputs": [],
      "source": [
        "def ConverteRpn(expressao):\n",
        "    \n",
        "    caracteresVariavel = string.ascii_letters + string.digits\n",
        "    caracteresOperacao = '*|.>=!()'\n",
        "    \n",
        "    caracteresInvalidos = set([char for char in expressao\n",
        "                          if char not in (caracteresVariavel + caracteresOperacao + string.whitespace)])\n",
        "    \n",
        "    if len(caracteresInvalidos) != 0:\n",
        "        raise ValidadorCaracter('Caracters inválidos: ' + ', '.join(caracteresInvalidos))\n",
        "    \n",
        "    simbolos = re.findall('[' + caracteresVariavel + ']+|[' + caracteresOperacao + ']', expressao)\n",
        "    \n",
        "    if not ChecaSintaxe(simbolos):\n",
        "        raise ValidadorSintaxe(\"Sintaxe inválida da expressão\")\n",
        "    \n",
        "    associatividade = defaultdict(lambda: 'left')\n",
        "    associatividade['!'] = 'right'\n",
        "    \n",
        "    precedencia = {'(': 6,\n",
        "                  ')': 6,\n",
        "                  '!': 5,\n",
        "                  '*': 3,\n",
        "                  '|': 2,\n",
        "                  '.': 4,\n",
        "                  '>': 1,\n",
        "                  '=': 0}\n",
        "    \n",
        "    pilha = []\n",
        "    fila = []\n",
        "    \n",
        "    for simbolo in simbolos:\n",
        "        \n",
        "        if simbolo not in caracteresOperacao:\n",
        "            fila.append(simbolo)\n",
        "            continue\n",
        "            \n",
        "        if simbolo == '(':\n",
        "            pilha.append(simbolo)\n",
        "            continue\n",
        "            \n",
        "        if simbolo == ')':\n",
        "        \n",
        "            while pilha[-1] != '(':\n",
        "                fila.append(pilha.pop())\n",
        "                \n",
        "            pilha.pop()\n",
        "            continue\n",
        "            \n",
        "        while (len(pilha) > 0 and\n",
        "               pilha[-1] != '(' and (\n",
        "               precedencia[pilha[-1]] > precedencia[simbolo] or\n",
        "               (precedencia[pilha[-1]] == precedencia[simbolo] and associatividade[pilha[-1]] == 'left'))):\n",
        "            \n",
        "            fila.append(pilha.pop())\n",
        "    \n",
        "        pilha.append(simbolo)\n",
        "    \n",
        "    \n",
        "    while len(pilha) > 0:\n",
        "        fila.append(pilha.pop())\n",
        "        \n",
        "    return fila"
      ]
    },
    {
      "cell_type": "markdown",
      "source": [
        "Avalia o valor da expressão"
      ],
      "metadata": {
        "id": "PVtFmMDUl93D"
      }
    },
    {
      "cell_type": "code",
      "execution_count": 141,
      "metadata": {
        "id": "ztj2arTPGnjH"
      },
      "outputs": [],
      "source": [
        "def AvaliaValor(expressaoRpn, valores):\n",
        "    \n",
        "    pilha = []\n",
        "    \n",
        "    for simbolo in expressaoRpn:\n",
        "        \n",
        "        if simbolo == '=':\n",
        "            pilha = pilha[:-2] + [ pilha[-2] == pilha[-1] ]\n",
        "            \n",
        "        elif simbolo == '>':\n",
        "            pilha = pilha[:-2] + [ (not pilha[-2]) or pilha[-1] ]\n",
        "            \n",
        "        elif simbolo == '*':\n",
        "            pilha = pilha[:-2] + [ pilha[-2] and pilha[-1] ]\n",
        "            \n",
        "        elif simbolo == '|':\n",
        "            pilha = pilha[:-2] + [ pilha[-2] or pilha[-1] ]\n",
        "            \n",
        "        elif simbolo == '.':\n",
        "            pilha = pilha[:-2] + [ pilha[-2] != pilha[-1] ]\n",
        "            \n",
        "        elif simbolo == '!':\n",
        "            pilha = pilha[:-1] + [ not pilha[-1] ]\n",
        "            \n",
        "        elif simbolo == '1':\n",
        "            pilha += [True]\n",
        "            \n",
        "        elif simbolo == '0':\n",
        "            pilha += [False]\n",
        "            \n",
        "        else:\n",
        "            pilha += [ valores[simbolo] ]\n",
        "                \n",
        "    return pilha[0]"
      ]
    },
    {
      "cell_type": "markdown",
      "source": [
        "Extraindo todas as variaveis da expressao e cria uma lista ordenada delas\n",
        "\n",
        "Craindo uma máscara binária a partir de um número\n",
        "\n",
        "Gera dicionário de valores para determinado conjunto de variáveis\n",
        "\n",
        "Conta o número de '1' dígitos na representação binária do número\n",
        "\n",
        "Encontra todos os conjuntos de valores para os quais a expressão é avaliada como True"
      ],
      "metadata": {
        "id": "kkKOQTMojjQ5"
      }
    },
    {
      "cell_type": "code",
      "execution_count": 137,
      "metadata": {
        "id": "mhOGX8vMGvBl"
      },
      "outputs": [],
      "source": [
        "def PegaVariaveis(expressaoRpn):\n",
        "    return sorted(set([simbolo for simbolo in expressaoRpn if simbolo not in '*|^>=!01']))\n",
        "\n",
        "def MascaraBinaria(numero, largura):\n",
        "    return bin(numero)[2:].rjust(largura, '0')\n",
        "\n",
        "def PegaValores(mascarBinariaNum, variaveis):\n",
        "    \n",
        "    resultado = {}\n",
        "    valores = map(lambda x: x == '1', MascaraBinaria(mascarBinariaNum, len(variaveis)))\n",
        "    \n",
        "    for variavel, valor in zip(variaveis, valores):\n",
        "        resultado[variavel] = valor\n",
        "        \n",
        "    return resultado\n",
        "\n",
        "def PegaNumeroUm(mascarBinariaNum):\n",
        "    return bin(mascarBinariaNum).count('1')\n",
        "\n",
        "def PegaMintermos(expressaoRpn):\n",
        "    \n",
        "    variaveis = PegaVariaveis(expressaoRpn)\n",
        "    tamanho = len(variaveis)\n",
        "    print(\"Número de variáveis\", tamanho)\n",
        "    if(tamanho > 4):\n",
        "      print(\"Programa não aceita mais de 4 variáveis\")\n",
        "      return 1\n",
        "    limiteSuperior = 1 << tamanho\n",
        "    \n",
        "    mintermos = set()\n",
        "    \n",
        "    for mascarBinariaNum in range(limiteSuperior):\n",
        "        \n",
        "        valores = PegaValores(mascarBinariaNum, variaveis)\n",
        "        \n",
        "        if AvaliaValor(expressaoRpn, valores) == True:\n",
        "            minterm_bitmask = 1 << mascarBinariaNum\n",
        "            mintermos.add((minterm_bitmask, MascaraBinaria(mascarBinariaNum, tamanho)))\n",
        "            \n",
        "    return mintermos, variaveis"
      ]
    },
    {
      "cell_type": "markdown",
      "source": [
        "Mescla dois implicantes (por exemplo, mescla('100', '110') -> '1-0')"
      ],
      "metadata": {
        "id": "Pv0gn7PMjbgt"
      }
    },
    {
      "cell_type": "code",
      "execution_count": 119,
      "metadata": {
        "id": "juLSZg4hGwUo"
      },
      "outputs": [],
      "source": [
        "def MesclarImplicantes(implicanteA, implicanteB):\n",
        "    \n",
        "    mascaraA = implicanteA[1]\n",
        "    mascaraB = implicanteB[1]\n",
        "    \n",
        "    if len([_ for bitA, bitB in zip(mascaraA, mascaraB) if bitA != bitB]) != 1:\n",
        "        return None\n",
        "    \n",
        "    resultMascara = \"\"\n",
        "    \n",
        "    for bitA, bitB in zip(mascaraA, mascaraB):\n",
        "        resultMascara += bitA if bitA == bitB else '-'\n",
        "        \n",
        "    return (implicanteA[0] | implicanteB[0]), resultMascara"
      ]
    },
    {
      "cell_type": "markdown",
      "source": [
        "Agrupa implicantes até que nenhuma outra combinação seja possível"
      ],
      "metadata": {
        "id": "37Ul7d5wjTKb"
      }
    },
    {
      "cell_type": "code",
      "execution_count": 120,
      "metadata": {
        "id": "RHqGWiDLG6LI"
      },
      "outputs": [],
      "source": [
        "def PegaPrimosImplicantes(mintermos):\n",
        "    \n",
        "    print(\"Mintermos: \", mintermos)\n",
        "    implicantes = mintermos\n",
        "    primosImplicantes = set()\n",
        "    \n",
        "    while True:\n",
        "    \n",
        "        used_implicantes = set()\n",
        "        novosImplicantes = set()\n",
        "        \n",
        "        for implicanteA, implicanteB in combinations(implicantes, 2):\n",
        "\n",
        "            merged = MesclarImplicantes(implicanteA, implicanteB)\n",
        "                \n",
        "            if merged is not None:\n",
        "                novosImplicantes.add(merged)\n",
        "                used_implicantes.add(implicanteA[0])\n",
        "                used_implicantes.add(implicanteB[0])\n",
        "        \n",
        "        for imp in implicantes:\n",
        "            if imp[0] not in used_implicantes:\n",
        "                primosImplicantes.add(imp)\n",
        "                    \n",
        "        implicantes = novosImplicantes\n",
        "        \n",
        "        if len(implicantes) == 0: \n",
        "            break\n",
        "    print(\"Primos implicantes\", primosImplicantes)\n",
        "    return primosImplicantes"
      ]
    },
    {
      "cell_type": "markdown",
      "source": [
        "Encontra o menor conjunto de principais implicantes que cobrem todos os mintermos"
      ],
      "metadata": {
        "id": "XNKpw0JajGVa"
      }
    },
    {
      "cell_type": "code",
      "execution_count": 121,
      "metadata": {
        "id": "k8McuYl7G9q-"
      },
      "outputs": [],
      "source": [
        "def PegaMintermosCobertos(mintermos, primosImplicantes):\n",
        "    \n",
        "    mascaraMintermos = 0\n",
        "    for mintermo, _ in mintermos:\n",
        "        mascaraMintermos |= mintermo\n",
        "    \n",
        "    for i in range(1, len(mintermos)+1):\n",
        "        for setaPrimos in combinations(primosImplicantes, i):\n",
        "            \n",
        "            mascaraPrimos = 0\n",
        "            for primo, _ in setaPrimos:\n",
        "                mascaraPrimos |= primo\n",
        "                \n",
        "            if mascaraPrimos == mascaraMintermos:\n",
        "                return setaPrimos\n",
        "            \n",
        "    return None"
      ]
    },
    {
      "cell_type": "markdown",
      "source": [
        "Convertendo implicante em string do conjunto de variáveis\n",
        "\n",
        "Convertendo o conjunto de implicantes em string de expressão lógica"
      ],
      "metadata": {
        "id": "ZRBxehtVic1E"
      }
    },
    {
      "cell_type": "code",
      "execution_count": 138,
      "metadata": {
        "id": "scuImTKPHBrJ"
      },
      "outputs": [],
      "source": [
        "def ConverteString(implicant, variaveis):\n",
        "    \n",
        "    resultado = []\n",
        "    for simbolo, variavel in zip(implicant[1], variaveis):\n",
        "        if simbolo == '1':\n",
        "            resultado += [variavel]\n",
        "        elif simbolo == '0':\n",
        "            resultado += ['!' + variavel]\n",
        "            \n",
        "    return ' * '.join(resultado)\n",
        "\n",
        "def ImplicantesParaString(cobertura, variaveis):\n",
        "    \n",
        "    resultado = [ConverteString(implicant, variaveis) for implicant in cobertura]\n",
        "    return ' | '.join(resultado)"
      ]
    },
    {
      "cell_type": "markdown",
      "source": [
        "Simplifica a expressão lógica com o algoritmo Quine-McCluskey"
      ],
      "metadata": {
        "id": "BaQtxnxZi6y2"
      }
    },
    {
      "cell_type": "code",
      "execution_count": 124,
      "metadata": {
        "id": "ePW1xO8aHGcT"
      },
      "outputs": [],
      "source": [
        "def Simplifica(expressao):\n",
        "    \n",
        "    expressaoRpn = ConverteRpn(expressao)\n",
        "    mintermos, variaveis = PegaMintermos(expressaoRpn)\n",
        "    \n",
        "    if len(variaveis) == 0:\n",
        "        return '1' if AvaliaValor(expressaoRpn, {}) else '0'\n",
        "    \n",
        "    if len(mintermos) == 0:\n",
        "        return '0'\n",
        "    \n",
        "    if len(mintermos) == 1 << len(variaveis):\n",
        "        return '1'\n",
        "    \n",
        "    primosImplicantes = PegaPrimosImplicantes(mintermos)\n",
        "    coberturaMintermos = PegaMintermosCobertos(mintermos, primosImplicantes)\n",
        "    return ImplicantesParaString(coberturaMintermos, variaveis)"
      ]
    },
    {
      "cell_type": "markdown",
      "source": [
        "#Testes"
      ],
      "metadata": {
        "id": "PUyFvNE8i-Zt"
      }
    },
    {
      "cell_type": "code",
      "execution_count": 143,
      "metadata": {
        "colab": {
          "base_uri": "https://localhost:8080/"
        },
        "id": "MXIZICz3HIp1",
        "outputId": "e57d7871-e6ba-4db0-b0b5-864e18498a14"
      },
      "outputs": [
        {
          "output_type": "stream",
          "name": "stdout",
          "text": [
            "Número de variáveis 4\n",
            "Mintermos:  {(32, '0101'), (128, '0111'), (64, '0110'), (1, '0000'), (2, '0001')}\n",
            "Primos implicantes {(160, '01-1'), (192, '011-'), (34, '0-01'), (3, '000-')}\n",
            "Resultado da simplificação:  !A * B * D | !A * B * C | !A * !B * !C\n",
            "Número de literais 9\n"
          ]
        }
      ],
      "source": [
        "res = Simplifica(\"(!A * !B * !C * !D) | (!A * !B * !C * D) | (!A * B * !C * D) | (!A * B * C * !D) | (!A * B * C * D)\")\n",
        "contadorLiterais = 0\n",
        "for i in range(len(res)):\n",
        "  if( res[i] == \"A\" or res[i] == \"B\" or res[i] == \"C\" or res[i] == \"D\" or res[i] == \"E\" or res[i] == \"F\" or res[i] == \"G\" or\n",
        "  res[i] == \"H\" or res[i] == \"I\" or res[i] == \"J\" or res[i] == \"K\" or res[i] == \"L\" or res[i] == \"M\" or res[i] == \"N\" or res[i] == \"O\" or res[i] == \"P\" or \n",
        "  res[i] == \"Q\" or res[i] == \"R\" or res[i] == \"S\" or res[i] == \"T\" or res[i] == \"U\" or res[i] == \"V\" or res[i] == \"X\" or res[i] == \"W\" or res[i] == \"Y\" or \n",
        "  res[i] == \"Z\"):\n",
        "    contadorLiterais += 1\n",
        "\n",
        "print(\"Resultado da simplificação: \", res)\n",
        "print(\"Número de literais\", contadorLiterais)"
      ]
    },
    {
      "cell_type": "markdown",
      "source": [
        "Algoritmo: (!A * B * D) | (!A * B * C) | (!A * !B * !C)\n",
        "\n",
        "Karma: (!A * !B* !C) | (!A * B * C) | (!A * B * D)\n",
        "\n",
        "**EQUIVALENTES**\n"
      ],
      "metadata": {
        "id": "lA2XZprFYGrt"
      }
    },
    {
      "cell_type": "code",
      "source": [
        "res = Simplifica(\"(!A*B*!C*D)|(!A*B*C*!D)|(!A*B*C*D)|(A*!B*!C*D)|(A*!B*C*!D)|(A*!B*C*D)|(A*B*!C*D)|(A*B*C*!D)\")\n",
        "contadorLiterais = 0\n",
        "for i in range(len(res)):\n",
        "  if( res[i] == \"A\" or res[i] == \"B\" or res[i] == \"C\" or res[i] == \"D\" or res[i] == \"E\" or res[i] == \"F\" or res[i] == \"G\" or\n",
        "  res[i] == \"H\" or res[i] == \"I\" or res[i] == \"J\" or res[i] == \"K\" or res[i] == \"L\" or res[i] == \"M\" or res[i] == \"N\" or res[i] == \"O\" or res[i] == \"P\" or \n",
        "  res[i] == \"Q\" or res[i] == \"R\" or res[i] == \"S\" or res[i] == \"T\" or res[i] == \"U\" or res[i] == \"V\" or res[i] == \"X\" or res[i] == \"W\" or res[i] == \"Y\" or \n",
        "  res[i] == \"Z\"):\n",
        "    contadorLiterais += 1\n",
        "\n",
        "print(\"Resultado da simplificação: \", res)\n",
        "print(\"Número de literais\", contadorLiterais)"
      ],
      "metadata": {
        "colab": {
          "base_uri": "https://localhost:8080/"
        },
        "id": "aMU73BYTRcSv",
        "outputId": "89742dd7-7c01-4863-806e-2643bd19c3df"
      },
      "execution_count": 146,
      "outputs": [
        {
          "output_type": "stream",
          "name": "stdout",
          "text": [
            "Número de variáveis 4\n",
            "Mintermos:  {(32, '0101'), (8192, '1101'), (1024, '1010'), (128, '0111'), (2048, '1011'), (64, '0110'), (512, '1001'), (16384, '1110')}\n",
            "Primos implicantes {(3072, '101-'), (192, '011-'), (2560, '10-1'), (160, '01-1'), (16448, '-110'), (17408, '1-10'), (8224, '-101'), (8704, '1-01')}\n",
            "Resultado da simplificação:  A * !B * C | !A * B * D | B * C * !D | A * !C * D\n",
            "Número de literais 12\n"
          ]
        }
      ]
    },
    {
      "cell_type": "markdown",
      "source": [
        "Algoritmo: (A * !B * C) | (!A * B * D) | (B * C * !D) | (A * !C * D)\n",
        "\n",
        "Karma: (A * !B * D) | (!A * B * C) | (B * !C * D) | (A * C * !D)\n",
        "\n",
        "**EQUIVALENTES**"
      ],
      "metadata": {
        "id": "8DYio6fdR4IX"
      }
    },
    {
      "cell_type": "code",
      "source": [
        "res = Simplifica(\"(!A*C)|(!A*B)|(A*!B*!C)|(!B*!C*!D)\")\n",
        "contadorLiterais = 0\n",
        "for i in range(len(res)):\n",
        "  if( res[i] == \"A\" or res[i] == \"B\" or res[i] == \"C\" or res[i] == \"D\" or res[i] == \"E\" or res[i] == \"F\" or res[i] == \"G\" or\n",
        "  res[i] == \"H\" or res[i] == \"I\" or res[i] == \"J\" or res[i] == \"K\" or res[i] == \"L\" or res[i] == \"M\" or res[i] == \"N\" or res[i] == \"O\" or res[i] == \"P\" or \n",
        "  res[i] == \"Q\" or res[i] == \"R\" or res[i] == \"S\" or res[i] == \"T\" or res[i] == \"U\" or res[i] == \"V\" or res[i] == \"X\" or res[i] == \"W\" or res[i] == \"Y\" or \n",
        "  res[i] == \"Z\"):\n",
        "    contadorLiterais += 1\n",
        "\n",
        "print(\"Resultado da simplificação: \", res)\n",
        "print(\"Número de literais\", contadorLiterais)"
      ],
      "metadata": {
        "colab": {
          "base_uri": "https://localhost:8080/"
        },
        "id": "frDDQvQtTjgE",
        "outputId": "c2f1aa1a-64d3-4fcb-9e7c-2ccdc60c91db"
      },
      "execution_count": 149,
      "outputs": [
        {
          "output_type": "stream",
          "name": "stdout",
          "text": [
            "Número de variáveis 4\n",
            "Mintermos:  {(32, '0101'), (128, '0111'), (64, '0110'), (1, '0000'), (256, '1000'), (8, '0011'), (512, '1001'), (16, '0100'), (4, '0010')}\n",
            "Primos implicantes {(85, '0--0'), (240, '01--'), (768, '100-'), (204, '0-1-'), (257, '-000')}\n",
            "Resultado da simplificação:  !A * !D | !A * B | A * !B * !C | !A * C\n",
            "Número de literais 9\n"
          ]
        }
      ]
    },
    {
      "cell_type": "markdown",
      "source": [
        "Algoritmo: (!A * !D) | (!A * B) | (A * !B * !C) | (!A * C)\n",
        "\n",
        "Karma: (A * !B * !C) | (!A * B) | (!A * C) | (!A * !D)\n",
        "\n",
        "**EQUIVALENTES**"
      ],
      "metadata": {
        "id": "X1PfdIwjUaec"
      }
    },
    {
      "cell_type": "code",
      "source": [
        "entrada = input()\n",
        "res = Simplifica(entrada)\n",
        "contadorLiterais = 0\n",
        "for i in range(len(res)):\n",
        "  if( res[i] == \"A\" or res[i] == \"B\" or res[i] == \"C\" or res[i] == \"D\" or res[i] == \"E\" or res[i] == \"F\" or res[i] == \"G\" or\n",
        "     res[i] == \"H\" or res[i] == \"I\" or res[i] == \"J\" or res[i] == \"K\" or res[i] == \"L\" or res[i] == \"M\" or res[i] == \"N\" or res[i] == \"O\" or res[i] == \"P\" or \n",
        "     res[i] == \"Q\" or res[i] == \"R\" or res[i] == \"S\" or res[i] == \"T\" or res[i] == \"U\" or res[i] == \"V\" or res[i] == \"X\" or res[i] == \"W\" or res[i] == \"Y\" or \n",
        "     res[i] == \"Z\"):\n",
        "     contadorLiterais += 1\n",
        "\n",
        "print(\"Resultado da simplificação: \", res)\n",
        "print(\"Número de literais\", contadorLiterais)"
      ],
      "metadata": {
        "colab": {
          "base_uri": "https://localhost:8080/"
        },
        "id": "jKaMa8Vjh_D7",
        "outputId": "461bf1af-363c-42f8-f125-e956c290c679"
      },
      "execution_count": 147,
      "outputs": [
        {
          "output_type": "stream",
          "name": "stdout",
          "text": [
            "(!A*C)|(!A*B)|(A*!B*!C)|(!B*!C*!D)\n",
            "Número de variáveis 4\n",
            "Mintermos:  {(32, '0101'), (128, '0111'), (64, '0110'), (1, '0000'), (256, '1000'), (8, '0011'), (512, '1001'), (16, '0100'), (4, '0010')}\n",
            "Primos implicantes {(85, '0--0'), (240, '01--'), (768, '100-'), (204, '0-1-'), (257, '-000')}\n",
            "Resultado da simplificação:  !A * !D | !A * B | A * !B * !C | !A * C\n",
            "Número de literais 9\n"
          ]
        }
      ]
    }
  ],
  "metadata": {
    "colab": {
      "provenance": []
    },
    "kernelspec": {
      "display_name": "Python 3",
      "name": "python3"
    },
    "language_info": {
      "name": "python"
    }
  },
  "nbformat": 4,
  "nbformat_minor": 0
}
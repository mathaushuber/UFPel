{
  "nbformat": 4,
  "nbformat_minor": 0,
  "metadata": {
    "colab": {
      "name": "Trabalho_AOC _2.ipynb",
      "provenance": [],
      "authorship_tag": "ABX9TyNOpzq6Bu0Io2juSRpEU7wL",
      "include_colab_link": true
    },
    "kernelspec": {
      "name": "python3",
      "display_name": "Python 3"
    },
    "language_info": {
      "name": "python"
    }
  },
  "cells": [
    {
      "cell_type": "markdown",
      "metadata": {
        "id": "view-in-github",
        "colab_type": "text"
      },
      "source": [
        "<a href=\"https://colab.research.google.com/github/Thiago-Reis-Porto/Trabalho-1-AOC2/blob/main/Trabalho_AOC__2.ipynb\" target=\"_parent\"><img src=\"https://colab.research.google.com/assets/colab-badge.svg\" alt=\"Open In Colab\"/></a>"
      ]
    },
    {
      "cell_type": "markdown",
      "metadata": {
        "id": "yIpAdZEBKIBr"
      },
      "source": [
        "# Trabalho AOC 2"
      ]
    },
    {
      "cell_type": "code",
      "metadata": {
        "id": "PkrDZoNK6EWf"
      },
      "source": [
        "import pandas as pd\n",
        "import matplotlib.pyplot as plt \n",
        "%matplotlib inline\n",
        "plt.rcParams['figure.figsize'] = [12,8]"
      ],
      "execution_count": 120,
      "outputs": []
    },
    {
      "cell_type": "markdown",
      "metadata": {
        "id": "ON_cvhLOKGKp"
      },
      "source": [
        "##Pegar tabelas do github:"
      ]
    },
    {
      "cell_type": "code",
      "metadata": {
        "id": "iK5CPZ1C_nxD"
      },
      "source": [
        "!wget https://raw.githubusercontent.com/Thiago-Reis-Porto/AOC2/main/tabelas/exp%201%20-%20vortex_1%20-%20Instruc.csv\n",
        "!wget https://raw.githubusercontent.com/Thiago-Reis-Porto/AOC2/main/tabelas/exp%201%20-%20vortex_1%20-%20Dados.csv\n",
        "!wget https://raw.githubusercontent.com/Thiago-Reis-Porto/AOC2/main/tabelas/exp%201%20-%20i_jpeg1%20-%20Instruc.csv\n",
        "!wget https://raw.githubusercontent.com/Thiago-Reis-Porto/AOC2/main/tabelas/exp%201%20-%20i_jpeg1%20-%20Dados.csv"
      ],
      "execution_count": null,
      "outputs": []
    },
    {
      "cell_type": "markdown",
      "metadata": {
        "id": "x09BCorvTD2D"
      },
      "source": [
        "## Utils"
      ]
    },
    {
      "cell_type": "code",
      "metadata": {
        "id": "OwGGgqp_EvHK"
      },
      "source": [
        "COLLUMNS = [\"Mapeamento Direto\",\"Conjunto Associativo (2 way)\",\"Conjunto Associativo (4 way)\", \"Totalmente Associativa\"]\n",
        "\n",
        "def benchmark_dict(n_inst, ls_inst, tables): \n",
        "  bmk_dict = {}\n",
        "  bmk_dict['Num. Instrucoes'] = n_inst\n",
        "  bmk_dict['Instrucoes L/S'] = ls_inst\n",
        "  bmk_dict['inst table'] = tables[0]\n",
        "  bmk_dict['data table'] = tables[1]\n",
        "  return bmk_dict\n",
        "\n",
        "def plot_bar_data(data, title, color):\n",
        "  plt.bar(COLLUMNS, data, color=color)\n",
        "  plt.title(title)\n",
        "  plt.show()"
      ],
      "execution_count": 110,
      "outputs": []
    },
    {
      "cell_type": "markdown",
      "metadata": {
        "id": "MXv_IggkKXjt"
      },
      "source": [
        "##EXPERIMENTO 1"
      ]
    },
    {
      "cell_type": "markdown",
      "metadata": {
        "id": "kGyo06yKS2iM"
      },
      "source": [
        "### VORTEX 1"
      ]
    },
    {
      "cell_type": "code",
      "metadata": {
        "id": "qQ4hM6pS6l3l"
      },
      "source": [
        "exp_1 = {}\n",
        "n_inst = 73561153\n",
        "ls_inst = 39479768\n",
        "\n",
        "inst_table = pd.read_csv('exp 1 - vortex_1 - Instruc.csv',index_col=0)\n",
        "data_table = pd.read_csv('exp 1 - vortex_1 - Dados.csv',index_col=0)\n",
        "inst_table.columns, data_table .columns = COLLUMNS, COLLUMNS\n",
        "\n",
        "vortex_dic = benchmark_dict(n_inst, ls_inst, [inst_table, data_table])\n",
        "exp_1['VORTEX_1'] = vortex_dic;"
      ],
      "execution_count": 104,
      "outputs": []
    },
    {
      "cell_type": "code",
      "metadata": {
        "colab": {
          "base_uri": "https://localhost:8080/"
        },
        "id": "vFR0tjL183yh",
        "outputId": "e8d237a0-6c48-4dad-8776-38c5f38ed1b6"
      },
      "source": [
        "print(\"Número de Instruções:\",exp_1['VORTEX_1']['Num. Instrucoes'])\n",
        "print(\"Número de Instruções LOAD/STORE:\",exp_1['VORTEX_1']['Instrucoes L/S'])"
      ],
      "execution_count": 105,
      "outputs": [
        {
          "output_type": "stream",
          "name": "stdout",
          "text": [
            "Número de Instruções: 73561153\n",
            "Número de Instruções LOAD/STORE: 39479768\n"
          ]
        }
      ]
    },
    {
      "cell_type": "code",
      "metadata": {
        "colab": {
          "base_uri": "https://localhost:8080/",
          "height": 235
        },
        "id": "96ccZIj1Sk82",
        "outputId": "5e596523-fa2f-4a74-9cf2-0f6064051b0d"
      },
      "source": [
        "exp_1['VORTEX_1']['inst table']"
      ],
      "execution_count": 106,
      "outputs": [
        {
          "output_type": "execute_result",
          "data": {
            "text/html": [
              "<div>\n",
              "<style scoped>\n",
              "    .dataframe tbody tr th:only-of-type {\n",
              "        vertical-align: middle;\n",
              "    }\n",
              "\n",
              "    .dataframe tbody tr th {\n",
              "        vertical-align: top;\n",
              "    }\n",
              "\n",
              "    .dataframe thead th {\n",
              "        text-align: right;\n",
              "    }\n",
              "</style>\n",
              "<table border=\"1\" class=\"dataframe\">\n",
              "  <thead>\n",
              "    <tr style=\"text-align: right;\">\n",
              "      <th></th>\n",
              "      <th>Mapeamento Direto</th>\n",
              "      <th>Conjunto Associativo (2 way)</th>\n",
              "      <th>Conjunto Associativo (4 way)</th>\n",
              "      <th>Totalmente Associativa</th>\n",
              "    </tr>\n",
              "  </thead>\n",
              "  <tbody>\n",
              "    <tr>\n",
              "      <th>nsets</th>\n",
              "      <td>256</td>\n",
              "      <td>128</td>\n",
              "      <td>64</td>\n",
              "      <td>1</td>\n",
              "    </tr>\n",
              "    <tr>\n",
              "      <th>bsize</th>\n",
              "      <td>32</td>\n",
              "      <td>32</td>\n",
              "      <td>32</td>\n",
              "      <td>32</td>\n",
              "    </tr>\n",
              "    <tr>\n",
              "      <th>assoc</th>\n",
              "      <td>1</td>\n",
              "      <td>2</td>\n",
              "      <td>4</td>\n",
              "      <td>256</td>\n",
              "    </tr>\n",
              "    <tr>\n",
              "      <th>repl</th>\n",
              "      <td>LRU</td>\n",
              "      <td>LRU</td>\n",
              "      <td>LRU</td>\n",
              "      <td>LRU</td>\n",
              "    </tr>\n",
              "    <tr>\n",
              "      <th>Misses</th>\n",
              "      <td>8369984</td>\n",
              "      <td>7985434</td>\n",
              "      <td>7301184</td>\n",
              "      <td>6713446</td>\n",
              "    </tr>\n",
              "    <tr>\n",
              "      <th>Miss_rate</th>\n",
              "      <td>0.1138</td>\n",
              "      <td>0.1086</td>\n",
              "      <td>0.0993</td>\n",
              "      <td>0.0913</td>\n",
              "    </tr>\n",
              "  </tbody>\n",
              "</table>\n",
              "</div>"
            ],
            "text/plain": [
              "          Mapeamento Direto  ... Totalmente Associativa\n",
              "nsets                   256  ...                      1\n",
              "bsize                    32  ...                     32\n",
              "assoc                     1  ...                    256\n",
              "repl                    LRU  ...                    LRU\n",
              "Misses              8369984  ...                6713446\n",
              "Miss_rate            0.1138  ...                 0.0913\n",
              "\n",
              "[6 rows x 4 columns]"
            ]
          },
          "metadata": {},
          "execution_count": 106
        }
      ]
    },
    {
      "cell_type": "code",
      "metadata": {
        "colab": {
          "base_uri": "https://localhost:8080/",
          "height": 235
        },
        "id": "pJsPWx43MqeE",
        "outputId": "6808f82e-4fe5-4564-b381-cf5ec9d39083"
      },
      "source": [
        "exp_1['VORTEX_1']['data table']"
      ],
      "execution_count": 107,
      "outputs": [
        {
          "output_type": "execute_result",
          "data": {
            "text/html": [
              "<div>\n",
              "<style scoped>\n",
              "    .dataframe tbody tr th:only-of-type {\n",
              "        vertical-align: middle;\n",
              "    }\n",
              "\n",
              "    .dataframe tbody tr th {\n",
              "        vertical-align: top;\n",
              "    }\n",
              "\n",
              "    .dataframe thead th {\n",
              "        text-align: right;\n",
              "    }\n",
              "</style>\n",
              "<table border=\"1\" class=\"dataframe\">\n",
              "  <thead>\n",
              "    <tr style=\"text-align: right;\">\n",
              "      <th></th>\n",
              "      <th>Mapeamento Direto</th>\n",
              "      <th>Conjunto Associativo (2 way)</th>\n",
              "      <th>Conjunto Associativo (4 way)</th>\n",
              "      <th>Totalmente Associativa</th>\n",
              "    </tr>\n",
              "  </thead>\n",
              "  <tbody>\n",
              "    <tr>\n",
              "      <th>nsets</th>\n",
              "      <td>256</td>\n",
              "      <td>128</td>\n",
              "      <td>64</td>\n",
              "      <td>1</td>\n",
              "    </tr>\n",
              "    <tr>\n",
              "      <th>bsize</th>\n",
              "      <td>32</td>\n",
              "      <td>32</td>\n",
              "      <td>32</td>\n",
              "      <td>32</td>\n",
              "    </tr>\n",
              "    <tr>\n",
              "      <th>assoc</th>\n",
              "      <td>1</td>\n",
              "      <td>2</td>\n",
              "      <td>4</td>\n",
              "      <td>256</td>\n",
              "    </tr>\n",
              "    <tr>\n",
              "      <th>repl</th>\n",
              "      <td>LRU</td>\n",
              "      <td>LRU</td>\n",
              "      <td>LRU</td>\n",
              "      <td>LRU</td>\n",
              "    </tr>\n",
              "    <tr>\n",
              "      <th>Misses</th>\n",
              "      <td>2674596</td>\n",
              "      <td>1592171</td>\n",
              "      <td>1358534</td>\n",
              "      <td>971821</td>\n",
              "    </tr>\n",
              "    <tr>\n",
              "      <th>Miss_rate</th>\n",
              "      <td>0.0545</td>\n",
              "      <td>0.0324</td>\n",
              "      <td>0.0277</td>\n",
              "      <td>0.0198</td>\n",
              "    </tr>\n",
              "  </tbody>\n",
              "</table>\n",
              "</div>"
            ],
            "text/plain": [
              "          Mapeamento Direto  ... Totalmente Associativa\n",
              "nsets                   256  ...                      1\n",
              "bsize                    32  ...                     32\n",
              "assoc                     1  ...                    256\n",
              "repl                    LRU  ...                    LRU\n",
              "Misses              2674596  ...                 971821\n",
              "Miss_rate            0.0545  ...                 0.0198\n",
              "\n",
              "[6 rows x 4 columns]"
            ]
          },
          "metadata": {},
          "execution_count": 107
        }
      ]
    },
    {
      "cell_type": "markdown",
      "metadata": {
        "id": "-rEMvSuWoa9H"
      },
      "source": [
        "#### Graficos"
      ]
    },
    {
      "cell_type": "code",
      "metadata": {
        "colab": {
          "base_uri": "https://localhost:8080/",
          "height": 499
        },
        "id": "w0I9wtNNmL8t",
        "outputId": "e39dae5f-260d-4d5c-d449-fbc4a8601c6a"
      },
      "source": [
        "df = exp_1['VORTEX_1']['inst table']\n",
        "values = df.loc['Misses'].astype(int).values\n",
        "plot_bar_data(values, \"Misses de Instruções\", \"#1684FF\")"
      ],
      "execution_count": 121,
      "outputs": [
        {
          "output_type": "display_data",
          "data": {
            "image/png": "[encoded data removed]",
            "text/plain": [
              "<Figure size 864x576 with 1 Axes>"
            ]
          },
          "metadata": {
            "needs_background": "light"
          }
        }
      ]
    },
    {
      "cell_type": "code",
      "metadata": {
        "colab": {
          "base_uri": "https://localhost:8080/",
          "height": 499
        },
        "id": "91uvFLCCnUTf",
        "outputId": "f3661534-9f34-4d43-e878-182398d410fc"
      },
      "source": [
        "df = exp_1['VORTEX_1']['inst table']\n",
        "values = df.loc['Miss_rate'].astype(float).values\n",
        "plot_bar_data(values, \"Taxa de Misses de Instruções\", \"#B51510\")"
      ],
      "execution_count": 122,
      "outputs": [
        {
          "output_type": "display_data",
          "data": {
            "image/png": "[encoded data removed]",
            "text/plain": [
              "<Figure size 864x576 with 1 Axes>"
            ]
          },
          "metadata": {
            "needs_background": "light"
          }
        }
      ]
    },
    {
      "cell_type": "code",
      "metadata": {
        "colab": {
          "base_uri": "https://localhost:8080/",
          "height": 499
        },
        "id": "JlMRDQ97XtzO",
        "outputId": "325d01a4-6182-4bb2-9726-512d870b3ff0"
      },
      "source": [
        "df = exp_1['VORTEX_1']['data table']\n",
        "values = df.loc['Misses'].astype(int).values\n",
        "plot_bar_data(values, \"Misses de Dados\", \"#1684FF\")"
      ],
      "execution_count": 123,
      "outputs": [
        {
          "output_type": "display_data",
          "data": {
            "image/png": "[encoded data removed]",
            "text/plain": [
              "<Figure size 864x576 with 1 Axes>"
            ]
          },
          "metadata": {
            "needs_background": "light"
          }
        }
      ]
    },
    {
      "cell_type": "code",
      "metadata": {
        "colab": {
          "base_uri": "https://localhost:8080/",
          "height": 499
        },
        "id": "54dgCFRmoNJk",
        "outputId": "b8d2ad9d-fe71-4ac0-b1af-e97e9f73d957"
      },
      "source": [
        "df = exp_1['VORTEX_1']['data table']\n",
        "values = df.loc['Miss_rate'].astype(float).values\n",
        "plot_bar_data(values, \"Taxa de Misses de Instruções\", \"#B51510\")"
      ],
      "execution_count": 124,
      "outputs": [
        {
          "output_type": "display_data",
          "data": {
            "image/png": "[encoded data removed]",
            "text/plain": [
              "<Figure size 864x576 with 1 Axes>"
            ]
          },
          "metadata": {
            "needs_background": "light"
          }
        }
      ]
    },
    {
      "cell_type": "markdown",
      "metadata": {
        "id": "ehDDc1Rso4FO"
      },
      "source": [
        "## IJPEG_1"
      ]
    },
    {
      "cell_type": "code",
      "metadata": {
        "id": "tgBRkymRq86M"
      },
      "source": [
        "n_inst = 76899826\n",
        "ls_inst = 19016649\n",
        "\n",
        "inst_table = pd.read_csv('exp 1 - i_jpeg1 - Instruc.csv',index_col=0)\n",
        "data_table = pd.read_csv('exp 1 - i_jpeg1 - Dados.csv',index_col=0)\n",
        "inst_table.columns, data_table .columns = COLLUMNS, COLLUMNS\n",
        "\n",
        "ijpeg_dic = benchmark_dict(n_inst, ls_inst, [inst_table, data_table])\n",
        "exp_1['IJPEG_1'] = ijpeg_dic;"
      ],
      "execution_count": 129,
      "outputs": []
    },
    {
      "cell_type": "code",
      "metadata": {
        "colab": {
          "base_uri": "https://localhost:8080/"
        },
        "id": "5Qikq4orzuy0",
        "outputId": "993e7639-fa04-4163-bab9-dc763e526005"
      },
      "source": [
        "print(\"Número de Instruções:\",exp_1['IJPEG_1']['Num. Instrucoes'])\n",
        "print(\"Número de Instruções LOAD/STORE:\",exp_1['IJPEG_1']['Instrucoes L/S'])"
      ],
      "execution_count": 130,
      "outputs": [
        {
          "output_type": "stream",
          "name": "stdout",
          "text": [
            "Número de Instruções: 76899826\n",
            "Número de Instruções LOAD/STORE: 19016649\n"
          ]
        }
      ]
    },
    {
      "cell_type": "code",
      "metadata": {
        "colab": {
          "base_uri": "https://localhost:8080/",
          "height": 235
        },
        "id": "MKQZC-PRz05E",
        "outputId": "6c1a62f1-f1a2-4408-d656-6fd546a089df"
      },
      "source": [
        "exp_1['IJPEG_1']['inst table']"
      ],
      "execution_count": 131,
      "outputs": [
        {
          "output_type": "execute_result",
          "data": {
            "text/html": [
              "<div>\n",
              "<style scoped>\n",
              "    .dataframe tbody tr th:only-of-type {\n",
              "        vertical-align: middle;\n",
              "    }\n",
              "\n",
              "    .dataframe tbody tr th {\n",
              "        vertical-align: top;\n",
              "    }\n",
              "\n",
              "    .dataframe thead th {\n",
              "        text-align: right;\n",
              "    }\n",
              "</style>\n",
              "<table border=\"1\" class=\"dataframe\">\n",
              "  <thead>\n",
              "    <tr style=\"text-align: right;\">\n",
              "      <th></th>\n",
              "      <th>Mapeamento Direto</th>\n",
              "      <th>Conjunto Associativo (2 way)</th>\n",
              "      <th>Conjunto Associativo (4 way)</th>\n",
              "      <th>Totalmente Associativa</th>\n",
              "    </tr>\n",
              "  </thead>\n",
              "  <tbody>\n",
              "    <tr>\n",
              "      <th>nsets</th>\n",
              "      <td>256</td>\n",
              "      <td>128</td>\n",
              "      <td>64</td>\n",
              "      <td>1</td>\n",
              "    </tr>\n",
              "    <tr>\n",
              "      <th>bsize</th>\n",
              "      <td>32</td>\n",
              "      <td>32</td>\n",
              "      <td>32</td>\n",
              "      <td>32</td>\n",
              "    </tr>\n",
              "    <tr>\n",
              "      <th>assoc</th>\n",
              "      <td>1</td>\n",
              "      <td>2</td>\n",
              "      <td>4</td>\n",
              "      <td>256</td>\n",
              "    </tr>\n",
              "    <tr>\n",
              "      <th>repl</th>\n",
              "      <td>LRU</td>\n",
              "      <td>LRU</td>\n",
              "      <td>LRU</td>\n",
              "      <td>LRU</td>\n",
              "    </tr>\n",
              "    <tr>\n",
              "      <th>Misses</th>\n",
              "      <td>1299920</td>\n",
              "      <td>1093728</td>\n",
              "      <td>1027454</td>\n",
              "      <td>970241</td>\n",
              "    </tr>\n",
              "    <tr>\n",
              "      <th>Miss_rate</th>\n",
              "      <td>0.0169</td>\n",
              "      <td>0.0142</td>\n",
              "      <td>0.0134</td>\n",
              "      <td>0.0126</td>\n",
              "    </tr>\n",
              "  </tbody>\n",
              "</table>\n",
              "</div>"
            ],
            "text/plain": [
              "          Mapeamento Direto  ... Totalmente Associativa\n",
              "nsets                   256  ...                      1\n",
              "bsize                    32  ...                     32\n",
              "assoc                     1  ...                    256\n",
              "repl                    LRU  ...                    LRU\n",
              "Misses              1299920  ...                 970241\n",
              "Miss_rate            0.0169  ...                 0.0126\n",
              "\n",
              "[6 rows x 4 columns]"
            ]
          },
          "metadata": {},
          "execution_count": 131
        }
      ]
    },
    {
      "cell_type": "code",
      "metadata": {
        "colab": {
          "base_uri": "https://localhost:8080/",
          "height": 235
        },
        "id": "US2LYGmY1VN4",
        "outputId": "813ea7ec-897e-48f4-d35f-8c11c994c2b1"
      },
      "source": [
        "exp_1['IJPEG_1']['data table']"
      ],
      "execution_count": 133,
      "outputs": [
        {
          "output_type": "execute_result",
          "data": {
            "text/html": [
              "<div>\n",
              "<style scoped>\n",
              "    .dataframe tbody tr th:only-of-type {\n",
              "        vertical-align: middle;\n",
              "    }\n",
              "\n",
              "    .dataframe tbody tr th {\n",
              "        vertical-align: top;\n",
              "    }\n",
              "\n",
              "    .dataframe thead th {\n",
              "        text-align: right;\n",
              "    }\n",
              "</style>\n",
              "<table border=\"1\" class=\"dataframe\">\n",
              "  <thead>\n",
              "    <tr style=\"text-align: right;\">\n",
              "      <th></th>\n",
              "      <th>Mapeamento Direto</th>\n",
              "      <th>Conjunto Associativo (2 way)</th>\n",
              "      <th>Conjunto Associativo (4 way)</th>\n",
              "      <th>Totalmente Associativa</th>\n",
              "    </tr>\n",
              "  </thead>\n",
              "  <tbody>\n",
              "    <tr>\n",
              "      <th>nsets</th>\n",
              "      <td>256</td>\n",
              "      <td>128</td>\n",
              "      <td>64</td>\n",
              "      <td>1</td>\n",
              "    </tr>\n",
              "    <tr>\n",
              "      <th>bsize</th>\n",
              "      <td>32</td>\n",
              "      <td>32</td>\n",
              "      <td>32</td>\n",
              "      <td>32</td>\n",
              "    </tr>\n",
              "    <tr>\n",
              "      <th>assoc</th>\n",
              "      <td>1</td>\n",
              "      <td>2</td>\n",
              "      <td>4</td>\n",
              "      <td>256</td>\n",
              "    </tr>\n",
              "    <tr>\n",
              "      <th>repl</th>\n",
              "      <td>LRU</td>\n",
              "      <td>LRU</td>\n",
              "      <td>LRU</td>\n",
              "      <td>LRU</td>\n",
              "    </tr>\n",
              "    <tr>\n",
              "      <th>Misses</th>\n",
              "      <td>631931</td>\n",
              "      <td>412079</td>\n",
              "      <td>395173</td>\n",
              "      <td>325765</td>\n",
              "    </tr>\n",
              "    <tr>\n",
              "      <th>Miss_rate</th>\n",
              "      <td>0.0329</td>\n",
              "      <td>0.0214</td>\n",
              "      <td>0.0206</td>\n",
              "      <td>0.0169</td>\n",
              "    </tr>\n",
              "  </tbody>\n",
              "</table>\n",
              "</div>"
            ],
            "text/plain": [
              "          Mapeamento Direto  ... Totalmente Associativa\n",
              "nsets                   256  ...                      1\n",
              "bsize                    32  ...                     32\n",
              "assoc                     1  ...                    256\n",
              "repl                    LRU  ...                    LRU\n",
              "Misses               631931  ...                 325765\n",
              "Miss_rate            0.0329  ...                 0.0169\n",
              "\n",
              "[6 rows x 4 columns]"
            ]
          },
          "metadata": {},
          "execution_count": 133
        }
      ]
    },
    {
      "cell_type": "markdown",
      "metadata": {
        "id": "cQOq9aMN1lZq"
      },
      "source": [
        "#### Graficos"
      ]
    },
    {
      "cell_type": "code",
      "metadata": {
        "colab": {
          "base_uri": "https://localhost:8080/",
          "height": 499
        },
        "id": "9bSxIbYH1acd",
        "outputId": "b6838a68-c1fc-4f84-c590-3c22599ef9a5"
      },
      "source": [
        "df = exp_1['IJPEG_1']['inst table']\n",
        "values = df.loc['Misses'].astype(int).values\n",
        "plot_bar_data(values, \"Misses de Instruções\", \"#1684FF\")"
      ],
      "execution_count": 135,
      "outputs": [
        {
          "output_type": "display_data",
          "data": {
            "image/png": "[encoded data removed]",
            "text/plain": [
              "<Figure size 864x576 with 1 Axes>"
            ]
          },
          "metadata": {
            "needs_background": "light"
          }
        }
      ]
    },
    {
      "cell_type": "code",
      "metadata": {
        "colab": {
          "base_uri": "https://localhost:8080/",
          "height": 499
        },
        "id": "_IX87u3F1bch",
        "outputId": "0ed17e10-f76d-4eaf-a7c7-c73b10881703"
      },
      "source": [
        "df = exp_1['IJPEG_1']['inst table']\n",
        "values = df.loc['Miss_rate'].astype(float).values\n",
        "plot_bar_data(values, \"Taxa de Misses de Instruções\", \"#B51510\")"
      ],
      "execution_count": 136,
      "outputs": [
        {
          "output_type": "display_data",
          "data": {
            "image/png": "[encoded data removed]",
            "text/plain": [
              "<Figure size 864x576 with 1 Axes>"
            ]
          },
          "metadata": {
            "needs_background": "light"
          }
        }
      ]
    },
    {
      "cell_type": "code",
      "metadata": {
        "colab": {
          "base_uri": "https://localhost:8080/",
          "height": 499
        },
        "id": "1GroMiPC1bp1",
        "outputId": "70d6cb7f-a79e-49ca-84dc-2541b0d755c3"
      },
      "source": [
        "df = exp_1['IJPEG_1']['data table']\n",
        "values = df.loc['Misses'].astype(int).values\n",
        "plot_bar_data(values, \"Misses de Dados\", \"#1684FF\")"
      ],
      "execution_count": 137,
      "outputs": [
        {
          "output_type": "display_data",
          "data": {
            "image/png": "[encoded data removed]",
            "text/plain": [
              "<Figure size 864x576 with 1 Axes>"
            ]
          },
          "metadata": {
            "needs_background": "light"
          }
        }
      ]
    },
    {
      "cell_type": "code",
      "metadata": {
        "colab": {
          "base_uri": "https://localhost:8080/",
          "height": 499
        },
        "id": "qXLOy9pP1b0A",
        "outputId": "6eb8f771-a1c4-49b3-cc47-3b27f25e74f4"
      },
      "source": [
        "df = exp_1['IJPEG_1']['data table']\n",
        "values = df.loc['Miss_rate'].astype(float).values\n",
        "plot_bar_data(values, \"Taxa de Misses de Instruções\", \"#B51510\")"
      ],
      "execution_count": 138,
      "outputs": [
        {
          "output_type": "display_data",
          "data": {
            "image/png": "[encoded data removed]",
            "text/plain": [
              "<Figure size 864x576 with 1 Axes>"
            ]
          },
          "metadata": {
            "needs_background": "light"
          }
        }
      ]
    }
  ]
}